{
 "cells": [
  {
   "cell_type": "markdown",
   "id": "c96bb6ef-3e60-476d-a694-e02d9439c3a6",
   "metadata": {},
   "source": [
    "# Disassembler Assignment\n",
    "\n",
    "In this assignment you will be writing a disassembler. This assignment is worth 50 points.\n",
    "* 5 points for submitted code and well formatted comments.\n",
    "* 5 points for the disassembled instructions. You may submit a simple text file.\n",
    "* 40 points for instructions: 5 points each for each of the 8 instructions.\n",
    "\n",
    "# Disassembler\n",
    "\n",
    "A disassembler is a program that will read the binary encoded instructions, interpret them, and present them back to the user in a human readable assembly language. You may have used several examples of a disassembler without realizing; an example is the GNU Debugger (GDB) which uses a disassembler and debugging objects or labels.\n",
    "\n",
    "You may be curious to try one built into your linux system:\n",
    "\n",
    "```sh\n",
    "objdump -d <binary_executable> | less\n",
    "```\n",
    "\n",
    "## Instructions and formats\n",
    "\n",
    "|Type| funct7 | rs2 | rs1 | funct3 | rd | Opcode |\n",
    "| ---| ------ | --- | --- | ------ | -- | ------ |\n",
    "| R  |    7   |  5  |  5  |    3   | 5  |   7    |\n",
    "| I  |   12   |     |  5  |    3   | 5  |   7    |\n",
    "| S  |   imm[11:5]   |  5  |  5  |    3   | imm[4:0] | 7 |\n",
    "| SB |   imm[12\\|10:5] | 5  | 5   |    3   | imm[4:1\\|11] | 7|\n",
    "|  U |  20 | | | | 5 | 7 |"
   ]
  },
  {
   "cell_type": "markdown",
   "id": "0f912097-59f9-49cf-8032-15fd26d66246",
   "metadata": {},
   "source": [
    "Here is an example to get started. We'd like to know what the opcode is to start, then the value of rd or immediate."
   ]
  },
  {
   "cell_type": "code",
   "id": "a8baac4a-7b85-49e0-90e1-af330733d3b0",
   "metadata": {
    "ExecuteTime": {
     "end_time": "2025-02-28T18:09:41.220468Z",
     "start_time": "2025-02-28T18:09:41.216161Z"
    }
   },
   "source": [
    "import numpy as np"
   ],
   "outputs": [],
   "execution_count": 23
  },
  {
   "cell_type": "code",
   "id": "3548e472-f3e0-4e69-ba48-d61f41c5e1a6",
   "metadata": {
    "ExecuteTime": {
     "end_time": "2025-02-28T18:09:41.299998Z",
     "start_time": "2025-02-28T18:09:41.280739Z"
    }
   },
   "source": [
    "instructions_as_bytes = np.fromfile('risc-v_instructions.bin', dtype=np.int32)\n",
    "# You might also seek to use python's file reader directly\n",
    "with open('risc-v_instructions.bin', 'rb') as rv_instrs:\n",
    "    binary_instructions = rv_instrs.read()\n",
    "print(bin(binary_instructions[0]))\n",
    "\n",
    "for instruction in binary_instructions:\n",
    "    print(bin(instruction))"
   ],
   "outputs": [
    {
     "name": "stdout",
     "output_type": "stream",
     "text": [
      "0b10000011\n",
      "0b10000011\n",
      "0b100011\n",
      "0b101\n",
      "0b0\n",
      "0b10010011\n",
      "0b10\n",
      "0b110000\n",
      "0b0\n",
      "0b11\n",
      "0b10100011\n",
      "0b11\n",
      "0b0\n",
      "0b10011\n",
      "0b1000011\n",
      "0b11\n",
      "0b10\n",
      "0b100011\n",
      "0b10100000\n",
      "0b1100011\n",
      "0b0\n",
      "0b10010011\n",
      "0b10000011\n",
      "0b1000011\n",
      "0b0\n",
      "0b10010011\n",
      "0b10000010\n",
      "0b11110010\n",
      "0b11111111\n",
      "0b11100011\n",
      "0b10011100\n",
      "0b10\n",
      "0b11111100\n"
     ]
    }
   ],
   "execution_count": 24
  },
  {
   "cell_type": "code",
   "id": "1d957269-a9f1-4493-a7bd-2f188ea11be9",
   "metadata": {
    "ExecuteTime": {
     "end_time": "2025-02-28T18:09:41.355597Z",
     "start_time": "2025-02-28T18:09:41.349486Z"
    }
   },
   "source": [
    "instructions_as_bytes.shape[0], len(binary_instructions)\n",
    "print(instructions_as_bytes.shape[0], len(binary_instructions))\n",
    "for instruction in instructions_as_bytes:\n",
    "    print(str(bin(instruction)))"
   ],
   "outputs": [
    {
     "name": "stdout",
     "output_type": "stream",
     "text": [
      "8 32\n",
      "0b1010010001110000011\n",
      "0b1100000000001010010011\n",
      "0b111010001100000011\n",
      "0b10000000110100001100010011\n",
      "0b11000111010000000100011\n",
      "0b10000111000001110010011\n",
      "-0b11010111110101101101\n",
      "-0b11111111010110001100011101\n"
     ]
    }
   ],
   "execution_count": 25
  },
  {
   "cell_type": "code",
   "id": "670479d2-5689-4d27-bbb6-f8d8432e4b59",
   "metadata": {
    "ExecuteTime": {
     "end_time": "2025-02-28T18:09:41.416422Z",
     "start_time": "2025-02-28T18:09:41.411438Z"
    }
   },
   "source": [
    "bin(instructions_as_bytes[0] & (2**7 - 1))"
   ],
   "outputs": [
    {
     "data": {
      "text/plain": [
       "'0b11'"
      ]
     },
     "execution_count": 26,
     "metadata": {},
     "output_type": "execute_result"
    }
   ],
   "execution_count": 26
  },
  {
   "cell_type": "markdown",
   "id": "220ea826-625c-40fa-9f3b-dc0ff7937822",
   "metadata": {},
   "source": [
    "If we examine the reference sheet, we see that for a value of `0b11` the instructions must be: `lb`, `lh`, `lw`, `lbu`, or `lhu`. We will need to check the higher bits from `funct3` to be sure which specific one."
   ]
  },
  {
   "cell_type": "code",
   "id": "29b24737-4bbc-469b-a5ff-8c956e2e312c",
   "metadata": {
    "ExecuteTime": {
     "end_time": "2025-02-28T18:09:41.471373Z",
     "start_time": "2025-02-28T18:09:41.466138Z"
    }
   },
   "source": [
    "bin((instructions_as_bytes[0] >> 7) & (2**8 - 1))"
   ],
   "outputs": [
    {
     "data": {
      "text/plain": [
       "'0b1000111'"
      ]
     },
     "execution_count": 27,
     "metadata": {},
     "output_type": "execute_result"
    }
   ],
   "execution_count": 27
  },
  {
   "metadata": {},
   "cell_type": "markdown",
   "source": [
    "There are a couple ways forward from here. We can either parse through the binary as a string, utilizing python's fancy string operators, or we can continue similar to how we have been, with shifting the binary, and anding for the result of the section.\n",
    "\n",
    "For the first part, let's use python's operators.\n",
    "\n",
    "### String Based Parsing\n",
    "So let's start with defining all the risc v mappings"
   ],
   "id": "394c5794e3497956"
  },
  {
   "metadata": {
    "ExecuteTime": {
     "end_time": "2025-03-01T00:04:58.734492Z",
     "start_time": "2025-03-01T00:04:58.722917Z"
    }
   },
   "cell_type": "code",
   "source": [
    "# Register to register instructions\n",
    "R_Type = {\n",
    "    \"000 0000000\": \"ADD\",\n",
    "    \"000 0100000\": \"SUB\",\n",
    "    \"001 0000000\": \"SLL\",\n",
    "    \"010 0000000\": \"SLT\",\n",
    "    \"011 0000000\": \"SLTU\",\n",
    "    \"100 0000000\": \"XOR\",\n",
    "    \"101 0000000\": \"SRL\",\n",
    "    \"101 0100000\": \"SRA\",\n",
    "    \"110 0000000\": \"OR\",\n",
    "    \"111 0000000\": \"AND\"\n",
    "}\n",
    "# Register to Immediate instructions\n",
    "I_Type = {\n",
    "    \"000\": \"ADDI\",\n",
    "    \"010\": \"SLTI\",\n",
    "    \"011\": \"SLTIU\",\n",
    "    \"100\": \"XORI\",\n",
    "    \"110\": \"ORI\",\n",
    "    \"111\": \"ANDI\",\n",
    "    \"001 0000000\": \"SLLI\",\n",
    "    \"101 0000000\": \"SRLI\",\n",
    "    \"101 0100000\": \"SRAI\"\n",
    "}\n",
    "# load instructions (I-Types)\n",
    "Load_Type = {\n",
    "    \"000\": \"LB\",\n",
    "    \"001\": \"LH\",\n",
    "    \"010\": \"LW\",\n",
    "    \"100\": \"LBU\",\n",
    "    \"101\": \"LHU\"\n",
    "}\n",
    "# Store type\n",
    "S_Type = {\n",
    "    \"000\": \"SB\",\n",
    "    \"001\": \"SH\",\n",
    "    \"010\": \"SW\"\n",
    "}\n",
    "B_Type = {\n",
    "    \"000\": \"BEQ\",\n",
    "    \"001\": \"BNE\",\n",
    "    \"100\": \"BLT\",\n",
    "    \"101\": \"BGE\",\n",
    "    \"110\": \"BLTU\",\n",
    "    \"111\": \"BGEU\"\n",
    "}\n",
    "\n"
   ],
   "id": "697dfb4344f8a7d4",
   "outputs": [],
   "execution_count": 45
  },
  {
   "metadata": {
    "ExecuteTime": {
     "end_time": "2025-03-01T00:09:24.617200Z",
     "start_time": "2025-03-01T00:09:24.565813Z"
    }
   },
   "cell_type": "code",
   "source": [
    "def sign_extend(bin_str, bits=12):\n",
    "    \"\"\"Sign-extend a binary string to a full 32-bit integer.\"\"\"\n",
    "    if bin_str[0] == \"1\":  # Negative number\n",
    "        return int(bin_str, 2) - (1 << bits)\n",
    "    return int(bin_str, 2)\n",
    "\n",
    "def decode_instruction(instr):\n",
    "    \"\"\"Decode a single 32-bit RISC-V instruction.\"\"\"\n",
    "    bin_instr = bin(instr)[2:].zfill(32)  # Convert to binary string\n",
    "    print(bin_instr)\n",
    "    opcode = bin_instr[-7:]  # Last 7 bits (opcode)\n",
    "    rd = bin_instr[-12:-7]  # Destination register (5 bits)\n",
    "    funct3 = bin_instr[-15:-12]  # Function (3 bits)\n",
    "    rs1 = bin_instr[-20:-15]  # Source register 1 (5 bits)\n",
    "    rs2 = bin_instr[-25:-20]  # Source register 2 (5 bits)\n",
    "    funct7 = bin_instr[:7]  # First 7 bits (R-type)\n",
    "\n",
    "    imm_i = sign_extend(bin_instr[:12])  # Immediate for I-type\n",
    "    imm_s = sign_extend(bin_instr[:7] + bin_instr[-25:-20])  # Immediate for S-type\n",
    "    imm_b = sign_extend(bin_instr[0] + bin_instr[24:31] + bin_instr[1:7] + \"0\", 13)  # Immediate for B-type\n",
    "    imm_u = int(bin_instr[:20], 2) << 12  # Immediate for U-type (upper 20 bits)\n",
    "    imm_j = sign_extend(bin_instr[0] + bin_instr[12:20] + bin_instr[11] + bin_instr[1:11] + \"0\", 21)  # Immediate for J-type\n",
    "\n",
    "\n",
    "    # R-type instructions (Register-Register)\n",
    "    # if opcode == \"0110011\":\n",
    "    #     operation = R_Type.get(f'{funct3} {funct7}', \"UNKNOWN_OP\")\n",
    "    #     return f\"{operation} x{int(rd, 2)}, x{int(rs1, 2)}, x{int(rs2, 2)}\"\n",
    "    #\n",
    "    # # I-type instructions (Immediate-based)\n",
    "    # elif opcode == \"0010011\":  # Arithmetic immediate operations\n",
    "    #     operation = I_Type.get(funct3, \"UNKNOWN_OP\")\n",
    "    #     return f\"{operation} x{int(rd, 2)}, x{int(rs1, 2)}, {imm_i}\"\n",
    "    #\n",
    "    # elif opcode == \"0000011\":  # Load instructions\n",
    "    #     operation = FUNCT3_LOAD.get(funct3, \"UNKNOWN_LOAD\")\n",
    "    #     return f\"{operation} x{int(rd, 2)}, {imm_i}(x{int(rs1, 2)})\"\n",
    "    #\n",
    "    # # S-type instructions (Store)\n",
    "    # elif opcode == \"0100011\":\n",
    "    #     operation = FUNCT3_STORE.get(funct3, \"UNKNOWN_STORE\")\n",
    "    #     return f\"{operation} x{int(rs2, 2)}, {imm_s}(x{int(rs1, 2)})\"\n",
    "    #\n",
    "    # # B-type instructions (Branching)\n",
    "    # elif opcode == \"1100011\":\n",
    "    #     operation = BRANCH_OPS.get(funct3, \"UNKNOWN_BRANCH\")\n",
    "    #     return f\"{operation} x{int(rs1, 2)}, x{int(rs2, 2)}, {imm_b}\"\n",
    "    #\n",
    "    # # U-type instructions (LUI, AUIPC)\n",
    "    # elif opcode == \"0110111\" or opcode == \"0010111\":\n",
    "    #     return f\"{mnemonic} x{int(rd, 2)}, {imm_u}\"\n",
    "    #\n",
    "    # # J-type instructions (Jump)\n",
    "    # elif opcode == \"1101111\":\n",
    "    #     return f\"JAL x{int(rd, 2)}, {imm_j}\"\n",
    "    #\n",
    "    # return f\"{mnemonic} (raw: {bin_instr})\"\n",
    "\n",
    "# Disassemble each instruction\n",
    "# for instr in instructions_as_bytes:\n",
    "#     print(decode_instruction(instr))\n",
    "decode_instruction(instructions_as_bytes[6])"
   ],
   "id": "980cd10fe2a45a0b",
   "outputs": [
    {
     "name": "stdout",
     "output_type": "stream",
     "text": [
      "00000000000b11010111110101101101\n"
     ]
    },
    {
     "ename": "ValueError",
     "evalue": "invalid literal for int() with base 2: '00000000000b'",
     "output_type": "error",
     "traceback": [
      "\u001B[0;31m---------------------------------------------------------------------------\u001B[0m",
      "\u001B[0;31mValueError\u001B[0m                                Traceback (most recent call last)",
      "Cell \u001B[0;32mIn[57], line 62\u001B[0m\n\u001B[1;32m     22\u001B[0m     imm_j \u001B[38;5;241m=\u001B[39m sign_extend(bin_instr[\u001B[38;5;241m0\u001B[39m] \u001B[38;5;241m+\u001B[39m bin_instr[\u001B[38;5;241m12\u001B[39m:\u001B[38;5;241m20\u001B[39m] \u001B[38;5;241m+\u001B[39m bin_instr[\u001B[38;5;241m11\u001B[39m] \u001B[38;5;241m+\u001B[39m bin_instr[\u001B[38;5;241m1\u001B[39m:\u001B[38;5;241m11\u001B[39m] \u001B[38;5;241m+\u001B[39m \u001B[38;5;124m\"\u001B[39m\u001B[38;5;124m0\u001B[39m\u001B[38;5;124m\"\u001B[39m, \u001B[38;5;241m21\u001B[39m)  \u001B[38;5;66;03m# Immediate for J-type\u001B[39;00m\n\u001B[1;32m     25\u001B[0m     \u001B[38;5;66;03m# R-type instructions (Register-Register)\u001B[39;00m\n\u001B[1;32m     26\u001B[0m     \u001B[38;5;66;03m# if opcode == \"0110011\":\u001B[39;00m\n\u001B[1;32m     27\u001B[0m     \u001B[38;5;66;03m#     operation = R_Type.get(f'{funct3} {funct7}', \"UNKNOWN_OP\")\u001B[39;00m\n\u001B[0;32m   (...)\u001B[0m\n\u001B[1;32m     60\u001B[0m \u001B[38;5;66;03m# for instr in instructions_as_bytes:\u001B[39;00m\n\u001B[1;32m     61\u001B[0m \u001B[38;5;66;03m#     print(decode_instruction(instr))\u001B[39;00m\n\u001B[0;32m---> 62\u001B[0m \u001B[43mdecode_instruction\u001B[49m\u001B[43m(\u001B[49m\u001B[43minstructions_as_bytes\u001B[49m\u001B[43m[\u001B[49m\u001B[38;5;241;43m6\u001B[39;49m\u001B[43m]\u001B[49m\u001B[43m)\u001B[49m\n",
      "Cell \u001B[0;32mIn[57], line 18\u001B[0m, in \u001B[0;36mdecode_instruction\u001B[0;34m(instr)\u001B[0m\n\u001B[1;32m     15\u001B[0m rs2 \u001B[38;5;241m=\u001B[39m bin_instr[\u001B[38;5;241m-\u001B[39m\u001B[38;5;241m25\u001B[39m:\u001B[38;5;241m-\u001B[39m\u001B[38;5;241m20\u001B[39m]  \u001B[38;5;66;03m# Source register 2 (5 bits)\u001B[39;00m\n\u001B[1;32m     16\u001B[0m funct7 \u001B[38;5;241m=\u001B[39m bin_instr[:\u001B[38;5;241m7\u001B[39m]  \u001B[38;5;66;03m# First 7 bits (R-type)\u001B[39;00m\n\u001B[0;32m---> 18\u001B[0m imm_i \u001B[38;5;241m=\u001B[39m \u001B[43msign_extend\u001B[49m\u001B[43m(\u001B[49m\u001B[43mbin_instr\u001B[49m\u001B[43m[\u001B[49m\u001B[43m:\u001B[49m\u001B[38;5;241;43m12\u001B[39;49m\u001B[43m]\u001B[49m\u001B[43m)\u001B[49m  \u001B[38;5;66;03m# Immediate for I-type\u001B[39;00m\n\u001B[1;32m     19\u001B[0m imm_s \u001B[38;5;241m=\u001B[39m sign_extend(bin_instr[:\u001B[38;5;241m7\u001B[39m] \u001B[38;5;241m+\u001B[39m bin_instr[\u001B[38;5;241m-\u001B[39m\u001B[38;5;241m25\u001B[39m:\u001B[38;5;241m-\u001B[39m\u001B[38;5;241m20\u001B[39m])  \u001B[38;5;66;03m# Immediate for S-type\u001B[39;00m\n\u001B[1;32m     20\u001B[0m imm_b \u001B[38;5;241m=\u001B[39m sign_extend(bin_instr[\u001B[38;5;241m0\u001B[39m] \u001B[38;5;241m+\u001B[39m bin_instr[\u001B[38;5;241m24\u001B[39m:\u001B[38;5;241m31\u001B[39m] \u001B[38;5;241m+\u001B[39m bin_instr[\u001B[38;5;241m1\u001B[39m:\u001B[38;5;241m7\u001B[39m] \u001B[38;5;241m+\u001B[39m \u001B[38;5;124m\"\u001B[39m\u001B[38;5;124m0\u001B[39m\u001B[38;5;124m\"\u001B[39m, \u001B[38;5;241m13\u001B[39m)  \u001B[38;5;66;03m# Immediate for B-type\u001B[39;00m\n",
      "Cell \u001B[0;32mIn[57], line 5\u001B[0m, in \u001B[0;36msign_extend\u001B[0;34m(bin_str, bits)\u001B[0m\n\u001B[1;32m      3\u001B[0m \u001B[38;5;28;01mif\u001B[39;00m bin_str[\u001B[38;5;241m0\u001B[39m] \u001B[38;5;241m==\u001B[39m \u001B[38;5;124m\"\u001B[39m\u001B[38;5;124m1\u001B[39m\u001B[38;5;124m\"\u001B[39m:  \u001B[38;5;66;03m# Negative number\u001B[39;00m\n\u001B[1;32m      4\u001B[0m     \u001B[38;5;28;01mreturn\u001B[39;00m \u001B[38;5;28mint\u001B[39m(bin_str, \u001B[38;5;241m2\u001B[39m) \u001B[38;5;241m-\u001B[39m (\u001B[38;5;241m1\u001B[39m \u001B[38;5;241m<<\u001B[39m bits)\n\u001B[0;32m----> 5\u001B[0m \u001B[38;5;28;01mreturn\u001B[39;00m \u001B[38;5;28;43mint\u001B[39;49m\u001B[43m(\u001B[49m\u001B[43mbin_str\u001B[49m\u001B[43m,\u001B[49m\u001B[43m \u001B[49m\u001B[38;5;241;43m2\u001B[39;49m\u001B[43m)\u001B[49m\n",
      "\u001B[0;31mValueError\u001B[0m: invalid literal for int() with base 2: '00000000000b'"
     ]
    }
   ],
   "execution_count": 57
  },
  {
   "metadata": {
    "ExecuteTime": {
     "end_time": "2025-02-28T18:09:41.649046Z",
     "start_time": "2025-02-28T18:09:41.642558Z"
    }
   },
   "cell_type": "code",
   "source": "",
   "id": "f166abfc69c7e29e",
   "outputs": [
    {
     "name": "stdout",
     "output_type": "stream",
     "text": [
      "LOAD (raw: 0b1010010001110000011)\n",
      "OP-IMM (raw: 0b1100000000001010010011)\n",
      "LOAD (raw: 0b111010001100000011)\n",
      "OP-IMM (raw: 0b10000000110100001100010011)\n",
      "STORE (raw: 0b11000111010000000100011)\n",
      "OP-IMM (raw: 0b10000111000001110010011)\n",
      "OP-IMM (raw: -0b11010111110101101101)\n",
      "BRANCH (raw: -0b11111111010110001100011101)\n"
     ]
    }
   ],
   "execution_count": 30
  },
  {
   "metadata": {},
   "cell_type": "code",
   "outputs": [],
   "execution_count": null,
   "source": "",
   "id": "d4ef7cb986ff1434"
  },
  {
   "metadata": {
    "ExecuteTime": {
     "end_time": "2025-02-28T18:25:07.521029Z",
     "start_time": "2025-02-28T18:25:07.514820Z"
    }
   },
   "cell_type": "code",
   "source": [
    "# def decode_instruction(instr):\n",
    "#     opcode = instr & 0x7F\n",
    "#     rd = (instr >> 7) & 0x1F\n",
    "#     funct3 = (instr >> 12) & 0x7\n",
    "#     rs1 = (instr >> 15) & 0x1F\n",
    "#     rs2 = (instr >> 20) & 0x1F\n",
    "#     funct7 = (instr >> 25) & 0x7F\n",
    "#\n",
    "#     mnemonic = OPCODES.get(opcode, \"UNKNOWN\")\n",
    "#\n",
    "#     if opcode == 0b0110011:  # Register-Register OP format\n",
    "#         operation = FUNCT3_OP.get(funct3, \"UNKNOWN_OP\")\n",
    "#         return f\"{operation} x{rd}, x{rs1}, x{rs2}\"\n",
    "#\n",
    "#     return f\"{mnemonic} (raw: {bin(instr)})\"\n"
   ],
   "id": "e94760368310be80",
   "outputs": [],
   "execution_count": 37
  },
  {
   "metadata": {
    "ExecuteTime": {
     "end_time": "2025-02-28T18:25:08.559025Z",
     "start_time": "2025-02-28T18:25:08.552842Z"
    }
   },
   "cell_type": "code",
   "source": [
    "for instr in instructions_as_bytes:\n",
    "    print(decode_instruction(instr))"
   ],
   "id": "d3a6ea7235f77c51",
   "outputs": [
    {
     "name": "stdout",
     "output_type": "stream",
     "text": [
      "UNKNOWN (raw: 0b1010010001110000011)\n",
      "UNKNOWN (raw: 0b1100000000001010010011)\n",
      "UNKNOWN (raw: 0b111010001100000011)\n",
      "UNKNOWN (raw: 0b10000000110100001100010011)\n",
      "UNKNOWN (raw: 0b11000111010000000100011)\n",
      "UNKNOWN (raw: 0b10000111000001110010011)\n",
      "UNKNOWN (raw: -0b11010111110101101101)\n",
      "UNKNOWN (raw: -0b11111111010110001100011101)\n"
     ]
    }
   ],
   "execution_count": 38
  }
 ],
 "metadata": {
  "kernelspec": {
   "display_name": "Python 3 (ipykernel)",
   "language": "python",
   "name": "python3"
  },
  "language_info": {
   "codemirror_mode": {
    "name": "ipython",
    "version": 3
   },
   "file_extension": ".py",
   "mimetype": "text/x-python",
   "name": "python",
   "nbconvert_exporter": "python",
   "pygments_lexer": "ipython3",
   "version": "3.10.12"
  }
 },
 "nbformat": 4,
 "nbformat_minor": 5
}
