{
 "cells": [
  {
   "cell_type": "markdown",
   "metadata": {},
   "source": [
    "# CS4200"
   ]
  },
  {
   "cell_type": "markdown",
   "metadata": {},
   "source": [
    "# Assignment 4 Branching\n",
    "\n",
    "Total 100 points"
   ]
  },
  {
   "cell_type": "markdown",
   "metadata": {},
   "source": [
    "This assignment is based off of one-bit and two-bit branch predictors.\n",
    "To simulate instructions and whether branches will occur or not, the provided methods `next_branch_outcome_random` and `next_branch_outcome_loop` will be used. These methods will simulate a completely random prediction outcome, and a set of outcomes that would more closely resemble a series of loops. A return of `True` represents taking a branch, and a `False` represents not taking a branch.\n",
    "\n",
    "The class `Predictor` represents the predictor. It is best practice to set the initial state to 0."
   ]
  },
  {
   "cell_type": "code",
   "execution_count": 12,
   "metadata": {},
   "outputs": [],
   "source": [
    "from random import paretovariate\n",
    "from random import random\n",
    "\n",
    "def next_branch_outcome_loop():\n",
    "    alpha = 2\n",
    "    outcome = paretovariate(alpha)\n",
    "    outcome = outcome > 2\n",
    "    return outcome\n",
    "\n",
    "def next_branch_outcome_random():\n",
    "    outcome = random()\n",
    "    outcome = outcome > 0.5\n",
    "    return outcome\n",
    "\n",
    "class Predictor:\n",
    "    \n",
    "    def __init__(self):\n",
    "        self.state = 0\n",
    "    \n",
    "    def next_predict(self):\n",
    "        \"\"\"\n",
    "        Use this method to return the prediction based off of the current\n",
    "        state.\n",
    "        \"\"\"\n",
    "        raise NotImplementedError(\"Implement this method\")\n",
    "        \n",
    "    def incorrect_predict(self):\n",
    "        \"\"\"\n",
    "        Use this method to set the next state if an incorrect predict\n",
    "        occurred. (self.state = next_state)\n",
    "        \"\"\"\n",
    "        raise NotImplementedError(\"Implement this method\")\n",
    "        \n",
    "    def correct_predict(self):\n",
    "        \"\"\"\n",
    "        Use this method to set the next state if an incorrect predict\n",
    "        occurred. (self.state = next_state)\n",
    "        \"\"\"\n",
    "        raise NotImplementedError(\"Implement this method\")"
   ]
  },
  {
   "cell_type": "markdown",
   "metadata": {},
   "source": [
    "## One Bit Predictor\n",
    "\n",
    "Complete the `OneBitPredictor` class by implementing the `next_predict`, `incorrect_predict`, and `correct_predict` methods. This instantiation will be used to compute the prediction accuracy. Use the `next_predict` method of the class to predict the next branch state. If the predict is incorrect, use the `incorrect_predict` method to set the next state. If the predict is correct, use the `correct_predict` method to set the next state."
   ]
  },
  {
   "cell_type": "code",
   "execution_count": 13,
   "metadata": {
    "deletable": false,
    "nbgrader": {
     "checksum": "739a279cea7c1974c3a0180cb10fbcae",
     "grade": true,
     "grade_id": "cell-e3aa7feb611b9370",
     "locked": false,
     "points": 0,
     "schema_version": 1,
     "solution": true
    }
   },
   "outputs": [],
   "source": [
    "class OneBitPredictor(Predictor):\n",
    "    \n",
    "    def next_predict(self):\n",
    "        # YOUR CODE HERE\n",
    "        return self.state == 1\n",
    "        \n",
    "    def incorrect_predict(self):\n",
    "        # YOUR CODE HERE\n",
    "        self.state = 1 - self.state\n",
    "        \n",
    "    def correct_predict(self):\n",
    "        # YOUR CODE HERE\n",
    "        pass"
   ]
  },
  {
   "cell_type": "markdown",
   "metadata": {},
   "source": [
    "### Random Branch Prediction\n",
    "\n",
    "Use the `next_branch_outcome_random` method to generate branch outcomes. Use the previously implemented methods to compute a prediction rate. (25 points)"
   ]
  },
  {
   "cell_type": "code",
   "execution_count": 14,
   "metadata": {
    "deletable": false,
    "nbgrader": {
     "checksum": "f480432bbb7a4c7e4327191ed55505f1",
     "grade": true,
     "grade_id": "cell-0d465713556a19e0",
     "locked": false,
     "points": 0,
     "schema_version": 1,
     "solution": true
    }
   },
   "outputs": [
    {
     "name": "stdout",
     "output_type": "stream",
     "text": [
      "Prediction Accuracy: 49.00%\n"
     ]
    }
   ],
   "source": [
    "# Example of how to use the OneBitPredictor class:\n",
    "predictor_1_bit = OneBitPredictor()\n",
    "correct_predictions = 0\n",
    "total_predictions = 100\n",
    "\n",
    "# Simulate a series of branch outcomes and test the predictor's accuracy\n",
    "for _ in range(total_predictions):\n",
    "    # Generate a branch outcome (using next_branch_outcome_random generator)\n",
    "    actual_outcome = next_branch_outcome_random()\n",
    "    \n",
    "    # Predict the next outcome\n",
    "    prediction = predictor_1_bit.next_predict()\n",
    "    \n",
    "    # Check if the prediction was correct\n",
    "    if prediction == actual_outcome:\n",
    "        correct_predictions += 1\n",
    "        predictor_1_bit.correct_predict()\n",
    "    else:\n",
    "        predictor_1_bit.incorrect_predict()\n",
    "\n",
    "accuracy = correct_predictions / total_predictions\n",
    "print(f\"Prediction Accuracy: {accuracy:.2%}\")"
   ]
  },
  {
   "cell_type": "markdown",
   "metadata": {},
   "source": [
    "### Loop Branch Prediction\n",
    "\n",
    "Use the `next_branch_outcome_loop` method to generate branch outcomes. Use the previously implemented methods to compute a prediction rate. (25 points)"
   ]
  },
  {
   "cell_type": "code",
   "execution_count": 15,
   "metadata": {
    "deletable": false,
    "nbgrader": {
     "checksum": "1aca1014f78f8be7ebd7902c9f837f3d",
     "grade": true,
     "grade_id": "cell-9e8421a48773104a",
     "locked": false,
     "points": 0,
     "schema_version": 1,
     "solution": true
    }
   },
   "outputs": [
    {
     "name": "stdout",
     "output_type": "stream",
     "text": [
      "Prediction Accuracy: 60.00%\n"
     ]
    }
   ],
   "source": [
    "# Example of how to use the OneBitPredictor class:\n",
    "correct_predictions = 0\n",
    "total_predictions = 100\n",
    "\n",
    "# Simulate a series of branch outcomes and test the predictor's accuracy\n",
    "for _ in range(total_predictions):\n",
    "    # Generate a branch outcome (using next_branch_outcome_loop generator)\n",
    "    actual_outcome = next_branch_outcome_loop()\n",
    "    \n",
    "    # Predict the next outcome\n",
    "    prediction = predictor_1_bit.next_predict()\n",
    "    \n",
    "    # Check if the prediction was correct\n",
    "    if prediction == actual_outcome:\n",
    "        correct_predictions += 1\n",
    "        predictor_1_bit.correct_predict()\n",
    "    else:\n",
    "        predictor_1_bit.incorrect_predict()\n",
    "\n",
    "accuracy = correct_predictions / total_predictions\n",
    "print(f\"Prediction Accuracy: {accuracy:.2%}\")"
   ]
  },
  {
   "cell_type": "markdown",
   "metadata": {},
   "source": [
    "## Two Bit Predictor\n",
    "\n",
    "Complete the `TwoBitPredictor` class by implementing the `next_predict`, `incorrect_predict`, and `correct_predict` methods. This instantiation will be used to compute the prediction accuracy. Use the `next_predict` method of the class to predict the next branch state. If the predict is incorrect, use the `incorrect_predict` method to set the next state. If the predict is correct, use the `correct_predict` method to set the next state."
   ]
  },
  {
   "cell_type": "code",
   "execution_count": 16,
   "metadata": {
    "deletable": false,
    "nbgrader": {
     "checksum": "453af3bda00f97e54c0d492ac1cbcfdd",
     "grade": true,
     "grade_id": "cell-8534a496fa4a0c73",
     "locked": false,
     "points": 0,
     "schema_version": 1,
     "solution": true
    }
   },
   "outputs": [],
   "source": [
    "class TwoBitPredictor(Predictor):\n",
    "    # Utilizes that the most significant bit will turn to 1 \n",
    "    def next_predict(self):\n",
    "        \"\"\"Predict the next outcome based on the current counter value.\"\"\"\n",
    "        # Predict \"Taken\" if counter is 2 or 3, otherwise \"Not Taken\"\n",
    "        return self.state >= 2\n",
    "    \n",
    "    def correct_predict(self):\n",
    "        \"\"\"If the prediction was correct, adjust the counter to strengthen the prediction.\"\"\"\n",
    "        if self.state < 3:\n",
    "            self.state += 1  # Move closer to \"Strongly Taken\" if predicting \"Taken\"\n",
    "    \n",
    "    def incorrect_predict(self):\n",
    "        \"\"\"If the prediction was incorrect, adjust the counter to weaken or reverse the prediction.\"\"\"\n",
    "        if self.state > 0:\n",
    "            self.state -= 1  # Move closer to \"Strongly Not Taken\" if predicting \"Not Taken\""
   ]
  },
  {
   "cell_type": "markdown",
   "metadata": {},
   "source": [
    "### Random Branch Prediction\n",
    "\n",
    "Use the `next_branch_outcome_random` method to generate branch outcomes. Use the previously implemented methods to compute a prediction rate. (25 points)"
   ]
  },
  {
   "cell_type": "code",
   "execution_count": 17,
   "metadata": {
    "deletable": false,
    "nbgrader": {
     "checksum": "ba2df5433d435d49f833bbe85837d766",
     "grade": true,
     "grade_id": "cell-4ef6bdcc1b0112fb",
     "locked": false,
     "points": 0,
     "schema_version": 1,
     "solution": true
    }
   },
   "outputs": [
    {
     "name": "stdout",
     "output_type": "stream",
     "text": [
      "Prediction Accuracy: 50.00%\n"
     ]
    }
   ],
   "source": [
    "# YOUR CODE HERE\n",
    "# Example of how to use the OneBitPredictor class:\n",
    "predictor_2_bit = TwoBitPredictor()\n",
    "correct_predictions = 0\n",
    "total_predictions = 100\n",
    "\n",
    "# Simulate a series of branch outcomes and test the predictor's accuracy\n",
    "for _ in range(total_predictions):\n",
    "    # Generate a branch outcome (using next_branch_outcome_random generator)\n",
    "    actual_outcome = next_branch_outcome_random()\n",
    "    \n",
    "    # Predict the next outcome\n",
    "    prediction = predictor_2_bit.next_predict()\n",
    "    \n",
    "    # Check if the prediction was correct\n",
    "    if prediction == actual_outcome:\n",
    "        correct_predictions += 1\n",
    "        predictor_2_bit.correct_predict()\n",
    "    else:\n",
    "        predictor_2_bit.incorrect_predict()\n",
    "\n",
    "accuracy = correct_predictions / total_predictions\n",
    "print(f\"Prediction Accuracy: {accuracy:.2%}\")"
   ]
  },
  {
   "cell_type": "markdown",
   "metadata": {},
   "source": [
    "### Loop Branch Prediction\n",
    "\n",
    "Use the `next_branch_outcome_loop` method to generate branch outcomes. Use the previously implemented methods to compute a prediction rate. (25 points)"
   ]
  },
  {
   "cell_type": "code",
   "execution_count": 18,
   "metadata": {
    "deletable": false,
    "nbgrader": {
     "checksum": "349adce20a40ecfc993dc2c455501db6",
     "grade": true,
     "grade_id": "cell-f7bb3a35d6b9e0e8",
     "locked": false,
     "points": 0,
     "schema_version": 1,
     "solution": true
    }
   },
   "outputs": [
    {
     "name": "stdout",
     "output_type": "stream",
     "text": [
      "Prediction Accuracy: 52.00%\n"
     ]
    }
   ],
   "source": [
    "# YOUR CODE HERE\n",
    "# Example of how to use the TwoBitPredictor class:\n",
    "correct_predictions = 0\n",
    "total_predictions = 100\n",
    "\n",
    "# Simulate a series of branch outcomes and test the predictor's accuracy\n",
    "for _ in range(total_predictions):\n",
    "    # Generate a branch outcome (using next_branch_outcome_loop generator)\n",
    "    actual_outcome = next_branch_outcome_loop()\n",
    "    \n",
    "    # Predict the next outcome\n",
    "    prediction = predictor_2_bit.next_predict()\n",
    "    \n",
    "    # Check if the prediction was correct\n",
    "    if prediction == actual_outcome:\n",
    "        correct_predictions += 1\n",
    "        predictor_2_bit.correct_predict()\n",
    "    else:\n",
    "        predictor_2_bit.incorrect_predict()\n",
    "\n",
    "accuracy = correct_predictions / total_predictions\n",
    "print(f\"Prediction Accuracy: {accuracy:.2%}\")"
   ]
  },
  {
   "cell_type": "markdown",
   "metadata": {},
   "source": [
    "## N-Bit Predictor\n",
    "\n",
    "Extra credit: 30 points.\n",
    "Inherit the `Predictor` class and implement it's methods just like before. Now, implement an `n-bit` predictor that represents a higher confidence prediction."
   ]
  },
  {
   "cell_type": "code",
   "execution_count": 19,
   "metadata": {
    "deletable": false,
    "nbgrader": {
     "checksum": "43643e55404d4bb3e0c3e22818e32bd3",
     "grade": true,
     "grade_id": "cell-2d366477b01f0499",
     "locked": false,
     "points": 0,
     "schema_version": 1,
     "solution": true
    }
   },
   "outputs": [],
   "source": [
    "# YOUR CODE HERE\n",
    "class NBitPredictor(Predictor):\n",
    "\n",
    "    def __init__(self, n_bits):\n",
    "        super().__init__()\n",
    "        self.n_bits = n_bits\n",
    "        self.state\n",
    "    \n",
    "    def next_predict(self):\n",
    "        \"\"\"Predict the next outcome based on the current counter value.\"\"\"\n",
    "        # Predict \"Taken\" if counter is > n_bits - 1, otherwise \"Not Taken\"\n",
    "        return self.state >= 2 ** (self.n_bits - 1)\n",
    "    \n",
    "    def correct_predict(self):\n",
    "        \"\"\"If the prediction was correct, adjust the counter to strengthen the prediction.\"\"\"\n",
    "        if self.state < (2 ** self.n_bits) -1:\n",
    "            self.state += 1  # Move closer to \"Strongly Taken\" if predicting \"Taken\"\n",
    "    \n",
    "    def incorrect_predict(self):\n",
    "        \"\"\"If the prediction was incorrect, adjust the counter to weaken or reverse the prediction.\"\"\"\n",
    "        if self.state > 0:\n",
    "            self.state -= 1  # Move closer to \"Strongly Not Taken\" if predicting \"Not Taken\""
   ]
  },
  {
   "cell_type": "markdown",
   "metadata": {},
   "source": [
    "### Random Branch Prediction\n",
    "\n",
    "Use the `next_branch_outcome_random` method to generate branch outcomes. Use the previously implemented methods to compute a prediction rate. (10 points)"
   ]
  },
  {
   "cell_type": "code",
   "execution_count": 20,
   "metadata": {
    "deletable": false,
    "nbgrader": {
     "checksum": "22e6177850a2be76f68299a831f30f38",
     "grade": true,
     "grade_id": "cell-6fd81fa9e8ae856d",
     "locked": false,
     "points": 10,
     "schema_version": 1,
     "solution": true
    }
   },
   "outputs": [
    {
     "name": "stdout",
     "output_type": "stream",
     "text": [
      "Prediction Accuracy: 49.87%\n"
     ]
    }
   ],
   "source": [
    "# YOUR CODE HERE\n",
    "# Example of how to use the NBitPredictor class:\n",
    "predictor_n_bit =  NBitPredictor(n_bits=50)\n",
    "correct_predictions = 0\n",
    "total_predictions = 10000\n",
    "\n",
    "# Simulate a series of branch outcomes and test the predictor's accuracy\n",
    "for _ in range(total_predictions):\n",
    "    # Generate a branch outcome (using next_branch_outcome_random generator)\n",
    "    actual_outcome = next_branch_outcome_random()\n",
    "    \n",
    "    # Predict the next outcome\n",
    "    prediction = predictor_n_bit.next_predict()\n",
    "    \n",
    "    # Check if the prediction was correct\n",
    "    if prediction == actual_outcome:\n",
    "        correct_predictions += 1\n",
    "        predictor_n_bit.correct_predict()\n",
    "    else:\n",
    "        predictor_n_bit.incorrect_predict()\n",
    "\n",
    "accuracy = correct_predictions / total_predictions\n",
    "print(f\"Prediction Accuracy: {accuracy:.2%}\")"
   ]
  },
  {
   "cell_type": "markdown",
   "metadata": {},
   "source": [
    "### Loop Branch Prediction\n",
    "\n",
    "Use the `next_branch_outcome_loop` method to generate branch outcomes. Use the previously implemented methods to compute a prediction rate. (10 points)"
   ]
  },
  {
   "cell_type": "code",
   "execution_count": 21,
   "metadata": {
    "deletable": false,
    "nbgrader": {
     "checksum": "57216930ab4a3b8ed9fee46da17fab2e",
     "grade": true,
     "grade_id": "cell-0eea562a7e158b9a",
     "locked": false,
     "points": 0,
     "schema_version": 1,
     "solution": true
    }
   },
   "outputs": [
    {
     "name": "stdout",
     "output_type": "stream",
     "text": [
      "Prediction Accuracy: 80.00%\n"
     ]
    }
   ],
   "source": [
    "# YOUR CODE HERE\n",
    "# Example of how to use the NBitPredictor class:\n",
    "correct_predictions = 0\n",
    "total_predictions = 1000\n",
    "\n",
    "# Simulate a series of branch outcomes and test the predictor's accuracy\n",
    "for _ in range(total_predictions):\n",
    "    # Generate a branch outcome (using next_branch_outcome_loop generator)\n",
    "    actual_outcome = next_branch_outcome_loop()\n",
    "    \n",
    "    # Predict the next outcome\n",
    "    prediction = predictor_n_bit.next_predict()\n",
    "    \n",
    "    # Check if the prediction was correct\n",
    "    if prediction == actual_outcome:\n",
    "        correct_predictions += 1\n",
    "        predictor_n_bit.correct_predict()\n",
    "    else:\n",
    "        predictor_n_bit.incorrect_predict()\n",
    "\n",
    "accuracy = correct_predictions / total_predictions\n",
    "print(f\"Prediction Accuracy: {accuracy:.2%}\")"
   ]
  },
  {
   "cell_type": "code",
   "execution_count": null,
   "metadata": {},
   "outputs": [],
   "source": []
  }
 ],
 "metadata": {
  "kernelspec": {
   "display_name": "Python 3 (ipykernel)",
   "language": "python",
   "name": "python3"
  },
  "language_info": {
   "codemirror_mode": {
    "name": "ipython",
    "version": 3
   },
   "file_extension": ".py",
   "mimetype": "text/x-python",
   "name": "python",
   "nbconvert_exporter": "python",
   "pygments_lexer": "ipython3",
   "version": "3.9.18"
  }
 },
 "nbformat": 4,
 "nbformat_minor": 4
}
