{
 "cells": [
  {
   "cell_type": "markdown",
   "id": "9465938a-42b5-4112-b05d-a565340e7e86",
   "metadata": {},
   "source": [
    "# Floating Point Assignment\n",
    "\n",
    "To run this notebook, use the provided file `floating_point_assignment.ipynb` and place it into your working directory.\n",
    "\n",
    "```bash\n",
    "source venv/bin/activate\n",
    "jupyter lab --ip 0.0.0.0\n",
    "```\n",
    "\n",
    "Then, follow the link from the standard out of the command. This contains a token to provide you access. To turn in your work, save this notebook and provide the file."
   ]
  },
  {
   "cell_type": "markdown",
   "id": "46599117-f191-4ea1-aca4-31c248f18618",
   "metadata": {},
   "source": [
    "# Definitions (25)\n",
    "\n",
    "We will start with a definition of floating point and double using IEEE format definitions. They are\n",
    "\n",
    "* 32-bit: 1 sign bit, 8 exp bits, 23 frac bits\n",
    "* 64-bit: 1 sign bit, 11 exp bits, 52 frac bits\n",
    "* 8-bit: 1 sign bit, 4 exp bits, 3 frac bits\n",
    "\n",
    "1. Provide the representation of the value 3.14159265 in 32-bit IEEE format.\n",
    "\n",
    "2. Provide the representation of the value 3.14159265 in 64-bit IEEE.\n",
    "\n",
    "3. Provide the representation of the value 3.14159265 in the 8 bit format\n",
    "\n",
    "4. Compare the precision loss of each value in comparison to 64-bit.\n",
    "5. Choose a repeating number of your choosing (ie 1/3) and show the precision loss comparing the 8-bit format to 32-bit.\n",
    "\n",
    "For numbers 1-3, provide your value in hex as that is easier. The above values should be completed by hand. You may use the techniques in part two to check your work.\n",
    "\n",
    "For the hand calculations, a PDF will be attached alongside this notebook. A python script showing each step for the mantissa will be at the\n",
    "end in the discussion section.\n",
    "1. 32-bit: 0x40490FDB\n",
    "2. 64-bit: 0x400921FB53C8D4F1\n",
    "3. 8-bit: 0x45\n",
    "4. Precision loss (Decimal):\n",
    "    1. 64-bit: 3.14159265\n",
    "    2. 32-bit: 3.141592741\n",
    "    3. 8-bit: 3.125\n",
    "# Precision loss compared to 64-bit\n",
    "    1. 3.14159265 - 3.141592741 = -9.1 x 10^-8\n",
    "    2. 3.14159265 - 3.125 = 0.01659265\n",
    "5. 1/3 To binary (see related pdf)\n",
    "    1. 32-bit :  0.3333333135\n",
    "    2. 8-bit: 0.3125\n",
    "    3. Precision loss between 32-bit and 8-bit: 0.0208333135\n"
   ]
  },
  {
   "cell_type": "markdown",
   "id": "078f8d04-840e-4b1d-aa17-02f7f26609b6",
   "metadata": {},
   "source": [
    "# Precision (25)"
   ]
  },
  {
   "cell_type": "code",
   "id": "e5bff17a-f7f0-4db3-a3b7-64a95eca3b4e",
   "metadata": {
    "ExecuteTime": {
     "end_time": "2024-12-21T06:31:34.050648Z",
     "start_time": "2024-12-21T06:31:34.046700Z"
    }
   },
   "source": [
    "import numpy as np\n",
    "from pymap3d.ecef import geodetic2ecef"
   ],
   "outputs": [],
   "execution_count": 33
  },
  {
   "cell_type": "markdown",
   "id": "006fc79e-8053-42d3-b9a7-0c3b33c4752f",
   "metadata": {},
   "source": [
    "In this section, you will use latitude, longitude, altitude coordinates to perform some calculations. The first is a coordinate change into Earth Centered, Earth Fixed (ECEF). You will then use a method for calculating the euclidean distance. You will then make observations on the precision of your calculations using three different floating point definitions. I have chosen UCCS and UC Boulder as examples. Replace at least one of these locations with those that you choose.\n",
    "\n",
    "## Points (5 points each)\n",
    "\n",
    "1. Replace location coordinates\n",
    "2. Perform calculations with each of `np.float64`, `np.float32`, and `np.float16`\n",
    "3. Brief discussion of observations"
   ]
  },
  {
   "cell_type": "code",
   "id": "04d46083-371b-4d76-bda4-204f2c98ecdb",
   "metadata": {
    "ExecuteTime": {
     "end_time": "2024-12-21T06:31:34.117154Z",
     "start_time": "2024-12-21T06:31:34.102120Z"
    }
   },
   "source": [
    "help(geodetic2ecef)"
   ],
   "outputs": [
    {
     "name": "stdout",
     "output_type": "stream",
     "text": [
      "Help on function geodetic2ecef in module pymap3d.ecef:\n",
      "\n",
      "geodetic2ecef(lat, lon, alt, ell: 'Ellipsoid' = Ellipsoid(model='wgs84', name='WGS-84 (1984)', semimajor_axis=6378137.0, semiminor_axis=6356752.31424518, flattening=0.0033528106647473664, thirdflattening=0.0016792203863836474, eccentricity=0.0818191908426201), deg: 'bool' = True) -> 'tuple'\n",
      "    point transformation from Geodetic of specified ellipsoid (default WGS-84) to ECEF\n",
      "    \n",
      "    Parameters\n",
      "    ----------\n",
      "    \n",
      "    lat\n",
      "           target geodetic latitude\n",
      "    lon\n",
      "           target geodetic longitude\n",
      "    alt\n",
      "         target altitude above geodetic ellipsoid (meters)\n",
      "    ell : Ellipsoid, optional\n",
      "          reference ellipsoid\n",
      "    deg : bool, optional\n",
      "          degrees input/output  (False: radians in/out)\n",
      "    \n",
      "    \n",
      "    Returns\n",
      "    -------\n",
      "    \n",
      "    ECEF (Earth centered, Earth fixed)  x,y,z\n",
      "    \n",
      "    x\n",
      "        target x ECEF coordinate (meters)\n",
      "    y\n",
      "        target y ECEF coordinate (meters)\n",
      "    z\n",
      "        target z ECEF coordinate (meters)\n",
      "\n"
     ]
    }
   ],
   "execution_count": 34
  },
  {
   "cell_type": "code",
   "id": "014e9afd-37c0-4da7-a04a-dccd12847277",
   "metadata": {
    "ExecuteTime": {
     "end_time": "2024-12-21T06:31:34.163593Z",
     "start_time": "2024-12-21T06:31:34.159817Z"
    }
   },
   "source": [
    "help(np.linalg.norm)"
   ],
   "outputs": [
    {
     "name": "stdout",
     "output_type": "stream",
     "text": [
      "Help on _ArrayFunctionDispatcher in module numpy.linalg:\n",
      "\n",
      "norm(x, ord=None, axis=None, keepdims=False)\n",
      "    Matrix or vector norm.\n",
      "    \n",
      "    This function is able to return one of eight different matrix norms,\n",
      "    or one of an infinite number of vector norms (described below), depending\n",
      "    on the value of the ``ord`` parameter.\n",
      "    \n",
      "    Parameters\n",
      "    ----------\n",
      "    x : array_like\n",
      "        Input array.  If `axis` is None, `x` must be 1-D or 2-D, unless `ord`\n",
      "        is None. If both `axis` and `ord` are None, the 2-norm of\n",
      "        ``x.ravel`` will be returned.\n",
      "    ord : {non-zero int, inf, -inf, 'fro', 'nuc'}, optional\n",
      "        Order of the norm (see table under ``Notes``). inf means numpy's\n",
      "        `inf` object. The default is None.\n",
      "    axis : {None, int, 2-tuple of ints}, optional.\n",
      "        If `axis` is an integer, it specifies the axis of `x` along which to\n",
      "        compute the vector norms.  If `axis` is a 2-tuple, it specifies the\n",
      "        axes that hold 2-D matrices, and the matrix norms of these matrices\n",
      "        are computed.  If `axis` is None then either a vector norm (when `x`\n",
      "        is 1-D) or a matrix norm (when `x` is 2-D) is returned. The default\n",
      "        is None.\n",
      "    \n",
      "        .. versionadded:: 1.8.0\n",
      "    \n",
      "    keepdims : bool, optional\n",
      "        If this is set to True, the axes which are normed over are left in the\n",
      "        result as dimensions with size one.  With this option the result will\n",
      "        broadcast correctly against the original `x`.\n",
      "    \n",
      "        .. versionadded:: 1.10.0\n",
      "    \n",
      "    Returns\n",
      "    -------\n",
      "    n : float or ndarray\n",
      "        Norm of the matrix or vector(s).\n",
      "    \n",
      "    See Also\n",
      "    --------\n",
      "    scipy.linalg.norm : Similar function in SciPy.\n",
      "    \n",
      "    Notes\n",
      "    -----\n",
      "    For values of ``ord < 1``, the result is, strictly speaking, not a\n",
      "    mathematical 'norm', but it may still be useful for various numerical\n",
      "    purposes.\n",
      "    \n",
      "    The following norms can be calculated:\n",
      "    \n",
      "    =====  ============================  ==========================\n",
      "    ord    norm for matrices             norm for vectors\n",
      "    =====  ============================  ==========================\n",
      "    None   Frobenius norm                2-norm\n",
      "    'fro'  Frobenius norm                --\n",
      "    'nuc'  nuclear norm                  --\n",
      "    inf    max(sum(abs(x), axis=1))      max(abs(x))\n",
      "    -inf   min(sum(abs(x), axis=1))      min(abs(x))\n",
      "    0      --                            sum(x != 0)\n",
      "    1      max(sum(abs(x), axis=0))      as below\n",
      "    -1     min(sum(abs(x), axis=0))      as below\n",
      "    2      2-norm (largest sing. value)  as below\n",
      "    -2     smallest singular value       as below\n",
      "    other  --                            sum(abs(x)**ord)**(1./ord)\n",
      "    =====  ============================  ==========================\n",
      "    \n",
      "    The Frobenius norm is given by [1]_:\n",
      "    \n",
      "    :math:`||A||_F = [\\sum_{i,j} abs(a_{i,j})^2]^{1/2}`\n",
      "    \n",
      "    The nuclear norm is the sum of the singular values.\n",
      "    \n",
      "    Both the Frobenius and nuclear norm orders are only defined for\n",
      "    matrices and raise a ValueError when ``x.ndim != 2``.\n",
      "    \n",
      "    References\n",
      "    ----------\n",
      "    .. [1] G. H. Golub and C. F. Van Loan, *Matrix Computations*,\n",
      "           Baltimore, MD, Johns Hopkins University Press, 1985, pg. 15\n",
      "    \n",
      "    Examples\n",
      "    --------\n",
      "    >>> from numpy import linalg as LA\n",
      "    >>> a = np.arange(9) - 4\n",
      "    >>> a\n",
      "    array([-4, -3, -2, ...,  2,  3,  4])\n",
      "    >>> b = a.reshape((3, 3))\n",
      "    >>> b\n",
      "    array([[-4, -3, -2],\n",
      "           [-1,  0,  1],\n",
      "           [ 2,  3,  4]])\n",
      "    \n",
      "    >>> LA.norm(a)\n",
      "    7.745966692414834\n",
      "    >>> LA.norm(b)\n",
      "    7.745966692414834\n",
      "    >>> LA.norm(b, 'fro')\n",
      "    7.745966692414834\n",
      "    >>> LA.norm(a, np.inf)\n",
      "    4.0\n",
      "    >>> LA.norm(b, np.inf)\n",
      "    9.0\n",
      "    >>> LA.norm(a, -np.inf)\n",
      "    0.0\n",
      "    >>> LA.norm(b, -np.inf)\n",
      "    2.0\n",
      "    \n",
      "    >>> LA.norm(a, 1)\n",
      "    20.0\n",
      "    >>> LA.norm(b, 1)\n",
      "    7.0\n",
      "    >>> LA.norm(a, -1)\n",
      "    -4.6566128774142013e-010\n",
      "    >>> LA.norm(b, -1)\n",
      "    6.0\n",
      "    >>> LA.norm(a, 2)\n",
      "    7.745966692414834\n",
      "    >>> LA.norm(b, 2)\n",
      "    7.3484692283495345\n",
      "    \n",
      "    >>> LA.norm(a, -2)\n",
      "    0.0\n",
      "    >>> LA.norm(b, -2)\n",
      "    1.8570331885190563e-016 # may vary\n",
      "    >>> LA.norm(a, 3)\n",
      "    5.8480354764257312 # may vary\n",
      "    >>> LA.norm(a, -3)\n",
      "    0.0\n",
      "    \n",
      "    Using the `axis` argument to compute vector norms:\n",
      "    \n",
      "    >>> c = np.array([[ 1, 2, 3],\n",
      "    ...               [-1, 1, 4]])\n",
      "    >>> LA.norm(c, axis=0)\n",
      "    array([ 1.41421356,  2.23606798,  5.        ])\n",
      "    >>> LA.norm(c, axis=1)\n",
      "    array([ 3.74165739,  4.24264069])\n",
      "    >>> LA.norm(c, ord=1, axis=1)\n",
      "    array([ 6.,  6.])\n",
      "    \n",
      "    Using the `axis` argument to compute matrix norms:\n",
      "    \n",
      "    >>> m = np.arange(8).reshape(2,2,2)\n",
      "    >>> LA.norm(m, axis=(1,2))\n",
      "    array([  3.74165739,  11.22497216])\n",
      "    >>> LA.norm(m[0, :, :]), LA.norm(m[1, :, :])\n",
      "    (3.7416573867739413, 11.224972160321824)\n",
      "\n"
     ]
    }
   ],
   "execution_count": 35
  },
  {
   "cell_type": "markdown",
   "id": "28405aca-32ff-49a7-bb6c-86f95896bf3a",
   "metadata": {},
   "source": [
    "### 64-bit"
   ]
  },
  {
   "cell_type": "code",
   "id": "a00e7127-1e94-4f03-9319-fd1f49515f4e",
   "metadata": {
    "ExecuteTime": {
     "end_time": "2024-12-21T06:31:34.218790Z",
     "start_time": "2024-12-21T06:31:34.213533Z"
    }
   },
   "source": [
    "washingtonMonument_64 = np.array([38.8895, -77.0353, 9.144])\n",
    "alcatraz_64 = np.array([37.8270,-122.4230, 41])"
   ],
   "outputs": [],
   "execution_count": 36
  },
  {
   "cell_type": "code",
   "id": "9b00958a-4ecf-4772-890a-65b3c4cc5212",
   "metadata": {
    "ExecuteTime": {
     "end_time": "2024-12-21T06:31:34.285285Z",
     "start_time": "2024-12-21T06:31:34.278652Z"
    }
   },
   "source": [
    "washingtonMonument_64_ecef = np.array([*geodetic2ecef(*washingtonMonument_64)])\n",
    "washingtonMonument_64_ecef"
   ],
   "outputs": [
    {
     "data": {
      "text/plain": [
       "array([ 1115257.47372751, -4844325.65541494,  3982782.00247558])"
      ]
     },
     "execution_count": 37,
     "metadata": {},
     "output_type": "execute_result"
    }
   ],
   "execution_count": 37
  },
  {
   "cell_type": "code",
   "id": "574f096c-a1be-4084-b0da-564a38afea27",
   "metadata": {
    "ExecuteTime": {
     "end_time": "2024-12-21T06:31:34.343546Z",
     "start_time": "2024-12-21T06:31:34.331660Z"
    }
   },
   "source": [
    "alcatraz_64_ecef = np.array([*geodetic2ecef(*alcatraz_64)])\n",
    "alcatraz_64_ecef"
   ],
   "outputs": [
    {
     "data": {
      "text/plain": [
       "array([-2704559.57842614, -4257924.95560529,  3890319.82103316])"
      ]
     },
     "execution_count": 38,
     "metadata": {},
     "output_type": "execute_result"
    }
   ],
   "execution_count": 38
  },
  {
   "cell_type": "code",
   "id": "9c9ab280-b70b-4783-be01-341089eaeb41",
   "metadata": {
    "ExecuteTime": {
     "end_time": "2024-12-21T06:31:34.406796Z",
     "start_time": "2024-12-21T06:31:34.401046Z"
    }
   },
   "source": [
    "np.linalg.norm(washingtonMonument_64_ecef - alcatraz_64_ecef)"
   ],
   "outputs": [
    {
     "data": {
      "text/plain": [
       "np.float64(3865671.655438175)"
      ]
     },
     "execution_count": 39,
     "metadata": {},
     "output_type": "execute_result"
    }
   ],
   "execution_count": 39
  },
  {
   "cell_type": "markdown",
   "id": "ca463bdd-cea4-4573-8b71-be17d0f880a7",
   "metadata": {},
   "source": [
    "### 32-bit"
   ]
  },
  {
   "cell_type": "code",
   "id": "04139412-145e-43bf-a741-d127a27f375f",
   "metadata": {
    "ExecuteTime": {
     "end_time": "2024-12-21T06:31:34.462833Z",
     "start_time": "2024-12-21T06:31:34.459384Z"
    }
   },
   "source": [
    "washingtonMonument_32 = washingtonMonument_64.astype(np.float32)\n",
    "alcatraz_32 = alcatraz_64.astype(np.float32)"
   ],
   "outputs": [],
   "execution_count": 40
  },
  {
   "cell_type": "code",
   "id": "5754c4b6-80b4-4920-bfbd-aa7340d6ed98",
   "metadata": {
    "ExecuteTime": {
     "end_time": "2024-12-21T06:31:34.515133Z",
     "start_time": "2024-12-21T06:31:34.508778Z"
    }
   },
   "source": [
    "washingtonMonument_32_ecef = np.array([*geodetic2ecef(*washingtonMonument_32)])\n",
    "washingtonMonument_32_ecef"
   ],
   "outputs": [
    {
     "data": {
      "text/plain": [
       "array([ 1115257.4, -4844325. ,  3982781.8], dtype=float32)"
      ]
     },
     "execution_count": 41,
     "metadata": {},
     "output_type": "execute_result"
    }
   ],
   "execution_count": 41
  },
  {
   "cell_type": "code",
   "id": "ea91b939-8887-4899-9840-4819cee35455",
   "metadata": {
    "ExecuteTime": {
     "end_time": "2024-12-21T06:31:34.604541Z",
     "start_time": "2024-12-21T06:31:34.584237Z"
    }
   },
   "source": [
    "alcatraz_32_ecef = np.array([*geodetic2ecef(*alcatraz_32)])\n",
    "alcatraz_32_ecef"
   ],
   "outputs": [
    {
     "data": {
      "text/plain": [
       "array([-2704559.8, -4257925. ,  3890319.8], dtype=float32)"
      ]
     },
     "execution_count": 42,
     "metadata": {},
     "output_type": "execute_result"
    }
   ],
   "execution_count": 42
  },
  {
   "cell_type": "code",
   "id": "9d7dc874-f615-43fd-af80-364dcbe42e1b",
   "metadata": {
    "ExecuteTime": {
     "end_time": "2024-12-21T06:31:34.671195Z",
     "start_time": "2024-12-21T06:31:34.664543Z"
    }
   },
   "source": [
    "np.linalg.norm(washingtonMonument_32_ecef - alcatraz_32_ecef)"
   ],
   "outputs": [
    {
     "data": {
      "text/plain": [
       "np.float32(3865671.5)"
      ]
     },
     "execution_count": 43,
     "metadata": {},
     "output_type": "execute_result"
    }
   ],
   "execution_count": 43
  },
  {
   "cell_type": "markdown",
   "id": "efe3c0d5-9374-4217-ac07-02f01ecf2797",
   "metadata": {},
   "source": [
    "### 16-bit"
   ]
  },
  {
   "cell_type": "code",
   "id": "83305b66-16ba-42a5-814e-a4604dd28aec",
   "metadata": {
    "ExecuteTime": {
     "end_time": "2024-12-21T06:31:34.752607Z",
     "start_time": "2024-12-21T06:31:34.749328Z"
    }
   },
   "source": [
    "# Complete on your own\n",
    "washingtonMonument_16 = washingtonMonument_32.astype(np.float16)\n",
    "alcatraz_16 = alcatraz_32.astype(np.float16) "
   ],
   "outputs": [],
   "execution_count": 44
  },
  {
   "cell_type": "code",
   "id": "02e94b3a-da1a-4f52-b6f5-1b6f0d6b6242",
   "metadata": {
    "ExecuteTime": {
     "end_time": "2024-12-21T06:31:34.807893Z",
     "start_time": "2024-12-21T06:31:34.794426Z"
    }
   },
   "source": [
    "washingtonMonument_16_ecef = np.array([*geodetic2ecef(*washingtonMonument_16)])\n",
    "washingtonMonument_16_ecef"
   ],
   "outputs": [
    {
     "data": {
      "text/plain": [
       "array([nan, nan, nan], dtype=float16)"
      ]
     },
     "execution_count": 45,
     "metadata": {},
     "output_type": "execute_result"
    }
   ],
   "execution_count": 45
  },
  {
   "cell_type": "code",
   "id": "01e8cd60-8624-4b92-acc0-4c2564d00ce6",
   "metadata": {
    "ExecuteTime": {
     "end_time": "2024-12-21T06:31:34.855651Z",
     "start_time": "2024-12-21T06:31:34.850179Z"
    }
   },
   "source": [
    "alcatraz_16_ecef = np.array([*geodetic2ecef(*alcatraz_16)])\n",
    "alcatraz_16_ecef"
   ],
   "outputs": [
    {
     "data": {
      "text/plain": [
       "array([nan, nan, nan], dtype=float16)"
      ]
     },
     "execution_count": 46,
     "metadata": {},
     "output_type": "execute_result"
    }
   ],
   "execution_count": 46
  },
  {
   "cell_type": "code",
   "id": "9bab2fad-04a4-47db-bdf3-4b13b38a54de",
   "metadata": {
    "ExecuteTime": {
     "end_time": "2024-12-21T06:31:34.903774Z",
     "start_time": "2024-12-21T06:31:34.899338Z"
    }
   },
   "source": [
    "np.linalg.norm(washingtonMonument_16_ecef - alcatraz_16_ecef)"
   ],
   "outputs": [
    {
     "data": {
      "text/plain": [
       "np.float16(nan)"
      ]
     },
     "execution_count": 47,
     "metadata": {},
     "output_type": "execute_result"
    }
   ],
   "execution_count": 47
  },
  {
   "cell_type": "markdown",
   "id": "cc4f55bc-03be-4371-af73-caac3c5ea22f",
   "metadata": {},
   "source": [
    "### Discussion\n",
    "\n",
    "Provide a brief discussion here"
   ]
  },
  {
   "metadata": {},
   "cell_type": "markdown",
   "source": "For the 64-bit precision, being the highest level of precision, both the Washington Monument and Alcatraz coordinates were accurately converted to ECEF. The distance between them was calculated without any noticeable errors, showing that np.float64 handles these kinds of computations well. However, for 32-bit precision, using np.float32, we saw small differences in the ECEF coordinates compared to the np.float64 version. Despite the slight loss of detail, the distance calculation was still accurate enough for most practical purposes. The most interesting aspect of floating point precision occurs at the 16-bit precision. This is where things broke down. The np.float16 format couldn’t handle the large values needed for the ECEF coordinates, resulting in NaN values. Without valid coordinates, the distance calculation couldn’t even be performed.",
   "id": "3a7d7af91449325f"
  },
  {
   "metadata": {},
   "cell_type": "markdown",
   "source": [
    "## The code for Conversion\n",
    "The code I wrote to help with conversions is here. It is not the most intensive, but it helped verify my math was correct"
   ],
   "id": "7f0c7163b5737a99"
  },
  {
   "cell_type": "code",
   "id": "4fd0abcb-1487-49b2-9049-bc3e4d09024b",
   "metadata": {
    "ExecuteTime": {
     "end_time": "2024-12-21T06:31:34.965912Z",
     "start_time": "2024-12-21T06:31:34.960991Z"
    }
   },
   "source": [
    "from decimal import Decimal, getcontext\n",
    "\n",
    "# Set the precision high enough to avoid rounding issues\n",
    "getcontext().prec = 50  # You can adjust the precision as needed\n",
    "\n",
    "# Function to convert a fractional decimal to binary using Decimal for high precision\n",
    "def decimal_to_binary_fraction(decimal_fraction, steps=52):\n",
    "    result = []\n",
    "    # Convert the input to a Decimal\n",
    "    value = Decimal(decimal_fraction)\n",
    "    binary_val = ''\n",
    "    for _ in range(steps):\n",
    "        value *= 2\n",
    "        integer_part = int(value)\n",
    "        fractional_part = value - integer_part\n",
    "        result.append(f\"{value:.8f} → Integer part = {integer_part}\")\n",
    "        binary_val += (str(integer_part))\n",
    "        if fractional_part == 0:  # Stop if there's no fractional part left\n",
    "            break\n",
    "\n",
    "        value = fractional_part\n",
    "\n",
    "    return result, binary_val\n",
    "\n",
    "\n",
    "# Decimal fraction to convert\n",
    "fractional_decimal = Decimal('0.14159265')  # Use Decimal for input value\n",
    "\n",
    "# Convert and print the result\n",
    "binary_steps, binary_val = decimal_to_binary_fraction(fractional_decimal)\n",
    "for step in binary_steps:\n",
    "    print(step)\n",
    "\n",
    "print(binary_val)"
   ],
   "outputs": [
    {
     "name": "stdout",
     "output_type": "stream",
     "text": [
      "0.28318530 → Integer part = 0\n",
      "0.56637060 → Integer part = 0\n",
      "1.13274120 → Integer part = 1\n",
      "0.26548240 → Integer part = 0\n",
      "0.53096480 → Integer part = 0\n",
      "1.06192960 → Integer part = 1\n",
      "0.12385920 → Integer part = 0\n",
      "0.24771840 → Integer part = 0\n",
      "0.49543680 → Integer part = 0\n",
      "0.99087360 → Integer part = 0\n",
      "1.98174720 → Integer part = 1\n",
      "1.96349440 → Integer part = 1\n",
      "1.92698880 → Integer part = 1\n",
      "1.85397760 → Integer part = 1\n",
      "1.70795520 → Integer part = 1\n",
      "1.41591040 → Integer part = 1\n",
      "0.83182080 → Integer part = 0\n",
      "1.66364160 → Integer part = 1\n",
      "1.32728320 → Integer part = 1\n",
      "0.65456640 → Integer part = 0\n",
      "1.30913280 → Integer part = 1\n",
      "0.61826560 → Integer part = 0\n",
      "1.23653120 → Integer part = 1\n",
      "0.47306240 → Integer part = 0\n",
      "0.94612480 → Integer part = 0\n",
      "1.89224960 → Integer part = 1\n",
      "1.78449920 → Integer part = 1\n",
      "1.56899840 → Integer part = 1\n",
      "1.13799680 → Integer part = 1\n",
      "0.27599360 → Integer part = 0\n",
      "0.55198720 → Integer part = 0\n",
      "1.10397440 → Integer part = 1\n",
      "0.20794880 → Integer part = 0\n",
      "0.41589760 → Integer part = 0\n",
      "0.83179520 → Integer part = 0\n",
      "1.66359040 → Integer part = 1\n",
      "1.32718080 → Integer part = 1\n",
      "0.65436160 → Integer part = 0\n",
      "1.30872320 → Integer part = 1\n",
      "0.61744640 → Integer part = 0\n",
      "1.23489280 → Integer part = 1\n",
      "0.46978560 → Integer part = 0\n",
      "0.93957120 → Integer part = 0\n",
      "1.87914240 → Integer part = 1\n",
      "1.75828480 → Integer part = 1\n",
      "1.51656960 → Integer part = 1\n",
      "1.03313920 → Integer part = 1\n",
      "0.06627840 → Integer part = 0\n",
      "0.13255680 → Integer part = 0\n",
      "0.26511360 → Integer part = 0\n",
      "0.53022720 → Integer part = 0\n",
      "1.06045440 → Integer part = 1\n",
      "0010010000111111011010100111100100011010100111100001\n"
     ]
    }
   ],
   "execution_count": 48
  }
 ],
 "metadata": {
  "kernelspec": {
   "display_name": "Python 3 (ipykernel)",
   "language": "python",
   "name": "python3"
  },
  "language_info": {
   "codemirror_mode": {
    "name": "ipython",
    "version": 3
   },
   "file_extension": ".py",
   "mimetype": "text/x-python",
   "name": "python",
   "nbconvert_exporter": "python",
   "pygments_lexer": "ipython3",
   "version": "3.9.18"
  }
 },
 "nbformat": 4,
 "nbformat_minor": 5
}
